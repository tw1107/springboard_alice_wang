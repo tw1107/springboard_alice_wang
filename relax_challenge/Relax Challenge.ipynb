{
 "cells": [
  {
   "cell_type": "markdown",
   "id": "120ecc88",
   "metadata": {},
   "source": [
    "# PROBLEM STATEMENT\n",
    "\n",
    "Defining an \"adopted user\" as a user who has logged into the product on three separate days in at least one seven-day period, identify which factors predict future user adoption.\n",
    "\n",
    "**Which variables best predict future user adoption?**\n",
    "\n",
    "Adoption: >= 3 login days within a 7 day period.\n",
    "\n"
   ]
  },
  {
   "cell_type": "markdown",
   "id": "8c08b4a8",
   "metadata": {},
   "source": [
    "## Import packages"
   ]
  },
  {
   "cell_type": "code",
   "execution_count": 82,
   "id": "b48d5b2c",
   "metadata": {},
   "outputs": [],
   "source": [
    "import pandas as pd\n",
    "import numpy as np\n",
    "import matplotlib.pyplot as plt\n",
    "import seaborn as sns\n",
    "from sklearn.model_selection import train_test_split\n",
    "from sklearn.preprocessing import StandardScaler"
   ]
  },
  {
   "cell_type": "markdown",
   "id": "11490d59",
   "metadata": {},
   "source": [
    "## Load Data"
   ]
  },
  {
   "cell_type": "code",
   "execution_count": 22,
   "id": "e8cb887a",
   "metadata": {},
   "outputs": [],
   "source": [
    "df_users = pd.read_csv('takehome_users.csv', encoding='latin')\n",
    "df_usereng = pd.read_csv('takehome_user_engagement.csv')"
   ]
  },
  {
   "cell_type": "markdown",
   "id": "4ee778e3",
   "metadata": {},
   "source": [
    "## Analyze Users Engagment"
   ]
  },
  {
   "cell_type": "code",
   "execution_count": 54,
   "id": "9cede19a",
   "metadata": {},
   "outputs": [
    {
     "data": {
      "text/html": [
       "<div>\n",
       "<style scoped>\n",
       "    .dataframe tbody tr th:only-of-type {\n",
       "        vertical-align: middle;\n",
       "    }\n",
       "\n",
       "    .dataframe tbody tr th {\n",
       "        vertical-align: top;\n",
       "    }\n",
       "\n",
       "    .dataframe thead th {\n",
       "        text-align: right;\n",
       "    }\n",
       "</style>\n",
       "<table border=\"1\" class=\"dataframe\">\n",
       "  <thead>\n",
       "    <tr style=\"text-align: right;\">\n",
       "      <th></th>\n",
       "      <th>time_stamp</th>\n",
       "      <th>user_id</th>\n",
       "      <th>visited</th>\n",
       "    </tr>\n",
       "  </thead>\n",
       "  <tbody>\n",
       "    <tr>\n",
       "      <th>0</th>\n",
       "      <td>2014-04-22 03:53:30</td>\n",
       "      <td>1</td>\n",
       "      <td>1</td>\n",
       "    </tr>\n",
       "    <tr>\n",
       "      <th>1</th>\n",
       "      <td>2013-11-15 03:45:04</td>\n",
       "      <td>2</td>\n",
       "      <td>1</td>\n",
       "    </tr>\n",
       "    <tr>\n",
       "      <th>2</th>\n",
       "      <td>2013-11-29 03:45:04</td>\n",
       "      <td>2</td>\n",
       "      <td>1</td>\n",
       "    </tr>\n",
       "    <tr>\n",
       "      <th>3</th>\n",
       "      <td>2013-12-09 03:45:04</td>\n",
       "      <td>2</td>\n",
       "      <td>1</td>\n",
       "    </tr>\n",
       "    <tr>\n",
       "      <th>4</th>\n",
       "      <td>2013-12-25 03:45:04</td>\n",
       "      <td>2</td>\n",
       "      <td>1</td>\n",
       "    </tr>\n",
       "  </tbody>\n",
       "</table>\n",
       "</div>"
      ],
      "text/plain": [
       "            time_stamp  user_id  visited\n",
       "0  2014-04-22 03:53:30        1        1\n",
       "1  2013-11-15 03:45:04        2        1\n",
       "2  2013-11-29 03:45:04        2        1\n",
       "3  2013-12-09 03:45:04        2        1\n",
       "4  2013-12-25 03:45:04        2        1"
      ]
     },
     "execution_count": 54,
     "metadata": {},
     "output_type": "execute_result"
    }
   ],
   "source": [
    "df_usereng.head()"
   ]
  },
  {
   "cell_type": "code",
   "execution_count": 55,
   "id": "904e2f59",
   "metadata": {},
   "outputs": [
    {
     "data": {
      "text/plain": [
       "time_stamp    0\n",
       "user_id       0\n",
       "visited       0\n",
       "dtype: int64"
      ]
     },
     "execution_count": 55,
     "metadata": {},
     "output_type": "execute_result"
    }
   ],
   "source": [
    "df_usereng.isna().sum()"
   ]
  },
  {
   "cell_type": "code",
   "execution_count": 56,
   "id": "32ca01a2",
   "metadata": {},
   "outputs": [
    {
     "name": "stdout",
     "output_type": "stream",
     "text": [
      "<class 'pandas.core.frame.DataFrame'>\n",
      "RangeIndex: 207917 entries, 0 to 207916\n",
      "Data columns (total 3 columns):\n",
      " #   Column      Non-Null Count   Dtype \n",
      "---  ------      --------------   ----- \n",
      " 0   time_stamp  207917 non-null  object\n",
      " 1   user_id     207917 non-null  int64 \n",
      " 2   visited     207917 non-null  int64 \n",
      "dtypes: int64(2), object(1)\n",
      "memory usage: 4.8+ MB\n"
     ]
    }
   ],
   "source": [
    "df_usereng.info()"
   ]
  },
  {
   "cell_type": "code",
   "execution_count": 57,
   "id": "5082d451",
   "metadata": {},
   "outputs": [],
   "source": [
    "df_usereng.time_stamp = pd.to_datetime(df_usereng.time_stamp)"
   ]
  },
  {
   "cell_type": "code",
   "execution_count": 58,
   "id": "3d5d544a",
   "metadata": {},
   "outputs": [
    {
     "name": "stdout",
     "output_type": "stream",
     "text": [
      "<class 'pandas.core.frame.DataFrame'>\n",
      "RangeIndex: 207917 entries, 0 to 207916\n",
      "Data columns (total 3 columns):\n",
      " #   Column      Non-Null Count   Dtype         \n",
      "---  ------      --------------   -----         \n",
      " 0   time_stamp  207917 non-null  datetime64[ns]\n",
      " 1   user_id     207917 non-null  int64         \n",
      " 2   visited     207917 non-null  int64         \n",
      "dtypes: datetime64[ns](1), int64(2)\n",
      "memory usage: 4.8 MB\n"
     ]
    }
   ],
   "source": [
    "df_usereng.info()"
   ]
  },
  {
   "cell_type": "code",
   "execution_count": 59,
   "id": "95e6442f",
   "metadata": {},
   "outputs": [],
   "source": [
    "df_usereng = df_usereng.sort_values('time_stamp')"
   ]
  },
  {
   "cell_type": "code",
   "execution_count": 60,
   "id": "d9f6bf43",
   "metadata": {},
   "outputs": [],
   "source": [
    "df_usereng = df_usereng.set_index('time_stamp')"
   ]
  },
  {
   "cell_type": "code",
   "execution_count": 61,
   "id": "04df6645",
   "metadata": {},
   "outputs": [
    {
     "data": {
      "text/html": [
       "<div>\n",
       "<style scoped>\n",
       "    .dataframe tbody tr th:only-of-type {\n",
       "        vertical-align: middle;\n",
       "    }\n",
       "\n",
       "    .dataframe tbody tr th {\n",
       "        vertical-align: top;\n",
       "    }\n",
       "\n",
       "    .dataframe thead th {\n",
       "        text-align: right;\n",
       "    }\n",
       "</style>\n",
       "<table border=\"1\" class=\"dataframe\">\n",
       "  <thead>\n",
       "    <tr style=\"text-align: right;\">\n",
       "      <th></th>\n",
       "      <th>user_id</th>\n",
       "      <th>visited</th>\n",
       "    </tr>\n",
       "    <tr>\n",
       "      <th>time_stamp</th>\n",
       "      <th></th>\n",
       "      <th></th>\n",
       "    </tr>\n",
       "  </thead>\n",
       "  <tbody>\n",
       "    <tr>\n",
       "      <th>2012-05-31 08:20:06</th>\n",
       "      <td>10012</td>\n",
       "      <td>1</td>\n",
       "    </tr>\n",
       "    <tr>\n",
       "      <th>2012-05-31 15:47:36</th>\n",
       "      <td>3428</td>\n",
       "      <td>1</td>\n",
       "    </tr>\n",
       "    <tr>\n",
       "      <th>2012-05-31 17:19:37</th>\n",
       "      <td>9899</td>\n",
       "      <td>1</td>\n",
       "    </tr>\n",
       "    <tr>\n",
       "      <th>2012-05-31 21:58:33</th>\n",
       "      <td>1693</td>\n",
       "      <td>1</td>\n",
       "    </tr>\n",
       "    <tr>\n",
       "      <th>2012-06-01 00:17:30</th>\n",
       "      <td>6102</td>\n",
       "      <td>1</td>\n",
       "    </tr>\n",
       "  </tbody>\n",
       "</table>\n",
       "</div>"
      ],
      "text/plain": [
       "                     user_id  visited\n",
       "time_stamp                           \n",
       "2012-05-31 08:20:06    10012        1\n",
       "2012-05-31 15:47:36     3428        1\n",
       "2012-05-31 17:19:37     9899        1\n",
       "2012-05-31 21:58:33     1693        1\n",
       "2012-06-01 00:17:30     6102        1"
      ]
     },
     "execution_count": 61,
     "metadata": {},
     "output_type": "execute_result"
    }
   ],
   "source": [
    "df_usereng.head()"
   ]
  },
  {
   "cell_type": "code",
   "execution_count": 62,
   "id": "a81dcdda",
   "metadata": {},
   "outputs": [],
   "source": [
    "temp = df_usereng.groupby('user_id')['visited'].rolling('7D', min_periods=1).count()"
   ]
  },
  {
   "cell_type": "code",
   "execution_count": 63,
   "id": "795ef717",
   "metadata": {},
   "outputs": [],
   "source": [
    "df_usereng = df_usereng.sort_values('user_id')\n"
   ]
  },
  {
   "cell_type": "code",
   "execution_count": 64,
   "id": "96cb716f",
   "metadata": {},
   "outputs": [],
   "source": [
    "df_usereng['rolling_engagment'] = temp.values"
   ]
  },
  {
   "cell_type": "code",
   "execution_count": 65,
   "id": "a2dcd54a",
   "metadata": {},
   "outputs": [],
   "source": [
    "temp = df_usereng.groupby('user_id')['rolling_engagment'].max()\n"
   ]
  },
  {
   "cell_type": "code",
   "execution_count": 66,
   "id": "9b212106",
   "metadata": {},
   "outputs": [],
   "source": [
    "adopted_user = temp >= 3\n"
   ]
  },
  {
   "cell_type": "code",
   "execution_count": 67,
   "id": "6ec6086c",
   "metadata": {},
   "outputs": [],
   "source": [
    "df_adopted_user = pd.DataFrame(adopted_user)\n"
   ]
  },
  {
   "cell_type": "code",
   "execution_count": 68,
   "id": "52e289df",
   "metadata": {},
   "outputs": [],
   "source": [
    "df_adopted_user = df_adopted_user.rename(columns={'rolling_engagment':'adopted_user'})\n"
   ]
  },
  {
   "cell_type": "code",
   "execution_count": 69,
   "id": "65bbcb7e",
   "metadata": {},
   "outputs": [
    {
     "data": {
      "text/html": [
       "<div>\n",
       "<style scoped>\n",
       "    .dataframe tbody tr th:only-of-type {\n",
       "        vertical-align: middle;\n",
       "    }\n",
       "\n",
       "    .dataframe tbody tr th {\n",
       "        vertical-align: top;\n",
       "    }\n",
       "\n",
       "    .dataframe thead th {\n",
       "        text-align: right;\n",
       "    }\n",
       "</style>\n",
       "<table border=\"1\" class=\"dataframe\">\n",
       "  <thead>\n",
       "    <tr style=\"text-align: right;\">\n",
       "      <th></th>\n",
       "      <th>adopted_user</th>\n",
       "    </tr>\n",
       "    <tr>\n",
       "      <th>user_id</th>\n",
       "      <th></th>\n",
       "    </tr>\n",
       "  </thead>\n",
       "  <tbody>\n",
       "    <tr>\n",
       "      <th>1</th>\n",
       "      <td>False</td>\n",
       "    </tr>\n",
       "    <tr>\n",
       "      <th>2</th>\n",
       "      <td>True</td>\n",
       "    </tr>\n",
       "    <tr>\n",
       "      <th>3</th>\n",
       "      <td>False</td>\n",
       "    </tr>\n",
       "    <tr>\n",
       "      <th>4</th>\n",
       "      <td>False</td>\n",
       "    </tr>\n",
       "    <tr>\n",
       "      <th>5</th>\n",
       "      <td>False</td>\n",
       "    </tr>\n",
       "  </tbody>\n",
       "</table>\n",
       "</div>"
      ],
      "text/plain": [
       "         adopted_user\n",
       "user_id              \n",
       "1               False\n",
       "2                True\n",
       "3               False\n",
       "4               False\n",
       "5               False"
      ]
     },
     "execution_count": 69,
     "metadata": {},
     "output_type": "execute_result"
    }
   ],
   "source": [
    "df_adopted_user.head()"
   ]
  },
  {
   "cell_type": "markdown",
   "id": "59b3fb7e",
   "metadata": {},
   "source": [
    "## Analyze Users dataframe"
   ]
  },
  {
   "cell_type": "code",
   "execution_count": 23,
   "id": "24c81842",
   "metadata": {},
   "outputs": [
    {
     "data": {
      "text/html": [
       "<div>\n",
       "<style scoped>\n",
       "    .dataframe tbody tr th:only-of-type {\n",
       "        vertical-align: middle;\n",
       "    }\n",
       "\n",
       "    .dataframe tbody tr th {\n",
       "        vertical-align: top;\n",
       "    }\n",
       "\n",
       "    .dataframe thead th {\n",
       "        text-align: right;\n",
       "    }\n",
       "</style>\n",
       "<table border=\"1\" class=\"dataframe\">\n",
       "  <thead>\n",
       "    <tr style=\"text-align: right;\">\n",
       "      <th></th>\n",
       "      <th>object_id</th>\n",
       "      <th>creation_time</th>\n",
       "      <th>name</th>\n",
       "      <th>email</th>\n",
       "      <th>creation_source</th>\n",
       "      <th>last_session_creation_time</th>\n",
       "      <th>opted_in_to_mailing_list</th>\n",
       "      <th>enabled_for_marketing_drip</th>\n",
       "      <th>org_id</th>\n",
       "      <th>invited_by_user_id</th>\n",
       "    </tr>\n",
       "  </thead>\n",
       "  <tbody>\n",
       "    <tr>\n",
       "      <th>0</th>\n",
       "      <td>1</td>\n",
       "      <td>2014-04-22 03:53:30</td>\n",
       "      <td>Clausen August</td>\n",
       "      <td>AugustCClausen@yahoo.com</td>\n",
       "      <td>GUEST_INVITE</td>\n",
       "      <td>1.398139e+09</td>\n",
       "      <td>1</td>\n",
       "      <td>0</td>\n",
       "      <td>11</td>\n",
       "      <td>10803.0</td>\n",
       "    </tr>\n",
       "    <tr>\n",
       "      <th>1</th>\n",
       "      <td>2</td>\n",
       "      <td>2013-11-15 03:45:04</td>\n",
       "      <td>Poole Matthew</td>\n",
       "      <td>MatthewPoole@gustr.com</td>\n",
       "      <td>ORG_INVITE</td>\n",
       "      <td>1.396238e+09</td>\n",
       "      <td>0</td>\n",
       "      <td>0</td>\n",
       "      <td>1</td>\n",
       "      <td>316.0</td>\n",
       "    </tr>\n",
       "    <tr>\n",
       "      <th>2</th>\n",
       "      <td>3</td>\n",
       "      <td>2013-03-19 23:14:52</td>\n",
       "      <td>Bottrill Mitchell</td>\n",
       "      <td>MitchellBottrill@gustr.com</td>\n",
       "      <td>ORG_INVITE</td>\n",
       "      <td>1.363735e+09</td>\n",
       "      <td>0</td>\n",
       "      <td>0</td>\n",
       "      <td>94</td>\n",
       "      <td>1525.0</td>\n",
       "    </tr>\n",
       "    <tr>\n",
       "      <th>3</th>\n",
       "      <td>4</td>\n",
       "      <td>2013-05-21 08:09:28</td>\n",
       "      <td>Clausen Nicklas</td>\n",
       "      <td>NicklasSClausen@yahoo.com</td>\n",
       "      <td>GUEST_INVITE</td>\n",
       "      <td>1.369210e+09</td>\n",
       "      <td>0</td>\n",
       "      <td>0</td>\n",
       "      <td>1</td>\n",
       "      <td>5151.0</td>\n",
       "    </tr>\n",
       "    <tr>\n",
       "      <th>4</th>\n",
       "      <td>5</td>\n",
       "      <td>2013-01-17 10:14:20</td>\n",
       "      <td>Raw Grace</td>\n",
       "      <td>GraceRaw@yahoo.com</td>\n",
       "      <td>GUEST_INVITE</td>\n",
       "      <td>1.358850e+09</td>\n",
       "      <td>0</td>\n",
       "      <td>0</td>\n",
       "      <td>193</td>\n",
       "      <td>5240.0</td>\n",
       "    </tr>\n",
       "  </tbody>\n",
       "</table>\n",
       "</div>"
      ],
      "text/plain": [
       "   object_id        creation_time               name  \\\n",
       "0          1  2014-04-22 03:53:30     Clausen August   \n",
       "1          2  2013-11-15 03:45:04      Poole Matthew   \n",
       "2          3  2013-03-19 23:14:52  Bottrill Mitchell   \n",
       "3          4  2013-05-21 08:09:28    Clausen Nicklas   \n",
       "4          5  2013-01-17 10:14:20          Raw Grace   \n",
       "\n",
       "                        email creation_source  last_session_creation_time  \\\n",
       "0    AugustCClausen@yahoo.com    GUEST_INVITE                1.398139e+09   \n",
       "1      MatthewPoole@gustr.com      ORG_INVITE                1.396238e+09   \n",
       "2  MitchellBottrill@gustr.com      ORG_INVITE                1.363735e+09   \n",
       "3   NicklasSClausen@yahoo.com    GUEST_INVITE                1.369210e+09   \n",
       "4          GraceRaw@yahoo.com    GUEST_INVITE                1.358850e+09   \n",
       "\n",
       "   opted_in_to_mailing_list  enabled_for_marketing_drip  org_id  \\\n",
       "0                         1                           0      11   \n",
       "1                         0                           0       1   \n",
       "2                         0                           0      94   \n",
       "3                         0                           0       1   \n",
       "4                         0                           0     193   \n",
       "\n",
       "   invited_by_user_id  \n",
       "0             10803.0  \n",
       "1               316.0  \n",
       "2              1525.0  \n",
       "3              5151.0  \n",
       "4              5240.0  "
      ]
     },
     "execution_count": 23,
     "metadata": {},
     "output_type": "execute_result"
    }
   ],
   "source": [
    "df_users.head()"
   ]
  },
  {
   "cell_type": "code",
   "execution_count": 25,
   "id": "bab3639b",
   "metadata": {},
   "outputs": [
    {
     "name": "stdout",
     "output_type": "stream",
     "text": [
      "<class 'pandas.core.frame.DataFrame'>\n",
      "RangeIndex: 12000 entries, 0 to 11999\n",
      "Data columns (total 10 columns):\n",
      " #   Column                      Non-Null Count  Dtype  \n",
      "---  ------                      --------------  -----  \n",
      " 0   object_id                   12000 non-null  int64  \n",
      " 1   creation_time               12000 non-null  object \n",
      " 2   name                        12000 non-null  object \n",
      " 3   email                       12000 non-null  object \n",
      " 4   creation_source             12000 non-null  object \n",
      " 5   last_session_creation_time  8823 non-null   float64\n",
      " 6   opted_in_to_mailing_list    12000 non-null  int64  \n",
      " 7   enabled_for_marketing_drip  12000 non-null  int64  \n",
      " 8   org_id                      12000 non-null  int64  \n",
      " 9   invited_by_user_id          6417 non-null   float64\n",
      "dtypes: float64(2), int64(4), object(4)\n",
      "memory usage: 937.6+ KB\n"
     ]
    }
   ],
   "source": [
    "df_users.info()"
   ]
  },
  {
   "cell_type": "code",
   "execution_count": 27,
   "id": "ddd7fec5",
   "metadata": {},
   "outputs": [],
   "source": [
    "# Update creation_time to datetime\n",
    "df_users.creation_time = pd.to_datetime(df_users.creation_time)"
   ]
  },
  {
   "cell_type": "code",
   "execution_count": 28,
   "id": "da2f8901",
   "metadata": {},
   "outputs": [
    {
     "name": "stdout",
     "output_type": "stream",
     "text": [
      "<class 'pandas.core.frame.DataFrame'>\n",
      "RangeIndex: 12000 entries, 0 to 11999\n",
      "Data columns (total 10 columns):\n",
      " #   Column                      Non-Null Count  Dtype         \n",
      "---  ------                      --------------  -----         \n",
      " 0   object_id                   12000 non-null  int64         \n",
      " 1   creation_time               12000 non-null  datetime64[ns]\n",
      " 2   name                        12000 non-null  object        \n",
      " 3   email                       12000 non-null  object        \n",
      " 4   creation_source             12000 non-null  object        \n",
      " 5   last_session_creation_time  8823 non-null   float64       \n",
      " 6   opted_in_to_mailing_list    12000 non-null  int64         \n",
      " 7   enabled_for_marketing_drip  12000 non-null  int64         \n",
      " 8   org_id                      12000 non-null  int64         \n",
      " 9   invited_by_user_id          6417 non-null   float64       \n",
      "dtypes: datetime64[ns](1), float64(2), int64(4), object(3)\n",
      "memory usage: 937.6+ KB\n"
     ]
    }
   ],
   "source": [
    "df_users.info()"
   ]
  },
  {
   "cell_type": "code",
   "execution_count": 29,
   "id": "87658934",
   "metadata": {},
   "outputs": [
    {
     "data": {
      "text/plain": [
       "invited_by_user_id            5583\n",
       "last_session_creation_time    3177\n",
       "object_id                        0\n",
       "creation_time                    0\n",
       "name                             0\n",
       "email                            0\n",
       "creation_source                  0\n",
       "opted_in_to_mailing_list         0\n",
       "enabled_for_marketing_drip       0\n",
       "org_id                           0\n",
       "dtype: int64"
      ]
     },
     "execution_count": 29,
     "metadata": {},
     "output_type": "execute_result"
    }
   ],
   "source": [
    "# Check for null values\n",
    "df_users.isnull().sum().sort_values(ascending=False)"
   ]
  },
  {
   "cell_type": "markdown",
   "id": "5714ea17",
   "metadata": {},
   "source": [
    "The missing values in invited_by_user_id probably represent users that signed up without an invitation. We check for this:\n"
   ]
  },
  {
   "cell_type": "code",
   "execution_count": 36,
   "id": "e9d42897",
   "metadata": {},
   "outputs": [
    {
     "data": {
      "text/plain": [
       "array(['SIGNUP', 'PERSONAL_PROJECTS', 'SIGNUP_GOOGLE_AUTH'], dtype=object)"
      ]
     },
     "execution_count": 36,
     "metadata": {},
     "output_type": "execute_result"
    }
   ],
   "source": [
    "df_users[df_users['invited_by_user_id'].isna()]['creation_source'].unique()"
   ]
  },
  {
   "cell_type": "code",
   "execution_count": 37,
   "id": "535cb9a6",
   "metadata": {},
   "outputs": [
    {
     "data": {
      "text/plain": [
       "array(['GUEST_INVITE', 'ORG_INVITE'], dtype=object)"
      ]
     },
     "execution_count": 37,
     "metadata": {},
     "output_type": "execute_result"
    }
   ],
   "source": [
    "df_users[~df_users['invited_by_user_id'].isna()]['creation_source'].unique()"
   ]
  },
  {
   "cell_type": "markdown",
   "id": "0b215d11",
   "metadata": {},
   "source": [
    "We see that our assumption was correct. We impute these values with \"not invited\"."
   ]
  },
  {
   "cell_type": "code",
   "execution_count": 38,
   "id": "6b761796",
   "metadata": {},
   "outputs": [],
   "source": [
    "df_users.loc[df_users['invited_by_user_id'].isna(), 'invited_by_user_id'] = 'not invited'"
   ]
  },
  {
   "cell_type": "markdown",
   "id": "d3e3cbc7",
   "metadata": {},
   "source": [
    "The missing values in last_session_creation_time probably represent users that never logged in to their accounts after account creation. We first check this by merging the original user engagment dataframe with the users dataframe to see if there are any usages recorded in the original user engagment dataframe.\n"
   ]
  },
  {
   "cell_type": "code",
   "execution_count": 39,
   "id": "fb614020",
   "metadata": {},
   "outputs": [],
   "source": [
    "temp = pd.read_csv('takehome_user_engagement.csv')\n",
    "dftemp = df_users.merge(temp, how='left', left_on='object_id', right_on='user_id')"
   ]
  },
  {
   "cell_type": "code",
   "execution_count": 40,
   "id": "301d7f67",
   "metadata": {},
   "outputs": [
    {
     "data": {
      "text/plain": [
       "3177"
      ]
     },
     "execution_count": 40,
     "metadata": {},
     "output_type": "execute_result"
    }
   ],
   "source": [
    "dftemp[dftemp['last_session_creation_time'].isna()].shape[0]"
   ]
  },
  {
   "cell_type": "code",
   "execution_count": 41,
   "id": "5f31f1a5",
   "metadata": {},
   "outputs": [
    {
     "data": {
      "text/plain": [
       "3177"
      ]
     },
     "execution_count": 41,
     "metadata": {},
     "output_type": "execute_result"
    }
   ],
   "source": [
    "dftemp.loc[dftemp['last_session_creation_time'].isna(), 'visited'].isna().sum()"
   ]
  },
  {
   "cell_type": "markdown",
   "id": "ddc07ecf",
   "metadata": {},
   "source": [
    "We see that merging the dataframes did not help in imputing the missing data for last_session_creation_time. So we reiterate our assumption that the missing values in last_session_creation_time probably represent users that never logged in to their accounts after account creation. We impute these values to be the same as account creation time."
   ]
  },
  {
   "cell_type": "code",
   "execution_count": 42,
   "id": "4dbd4142",
   "metadata": {},
   "outputs": [],
   "source": [
    "df_users['last_session_creation_time'] = pd.to_datetime(df_users['last_session_creation_time'], unit='s')"
   ]
  },
  {
   "cell_type": "code",
   "execution_count": 43,
   "id": "85240234",
   "metadata": {},
   "outputs": [],
   "source": [
    "df_users.creation_time = pd.to_datetime(df_users['creation_time'])"
   ]
  },
  {
   "cell_type": "code",
   "execution_count": 44,
   "id": "1ede1db6",
   "metadata": {},
   "outputs": [],
   "source": [
    "df_users.loc[df_users['last_session_creation_time'].isna(), 'last_session_creation_time'] = \\\n",
    "df_users.loc[df_users['last_session_creation_time'].isna(), 'creation_time']\n"
   ]
  },
  {
   "cell_type": "code",
   "execution_count": 45,
   "id": "b5d8a9c3",
   "metadata": {},
   "outputs": [
    {
     "data": {
      "text/plain": [
       "False"
      ]
     },
     "execution_count": 45,
     "metadata": {},
     "output_type": "execute_result"
    }
   ],
   "source": [
    "(df_users.creation_time > df_users.last_session_creation_time).any()"
   ]
  },
  {
   "cell_type": "code",
   "execution_count": 46,
   "id": "35000ab6",
   "metadata": {},
   "outputs": [
    {
     "data": {
      "text/html": [
       "<div>\n",
       "<style scoped>\n",
       "    .dataframe tbody tr th:only-of-type {\n",
       "        vertical-align: middle;\n",
       "    }\n",
       "\n",
       "    .dataframe tbody tr th {\n",
       "        vertical-align: top;\n",
       "    }\n",
       "\n",
       "    .dataframe thead th {\n",
       "        text-align: right;\n",
       "    }\n",
       "</style>\n",
       "<table border=\"1\" class=\"dataframe\">\n",
       "  <thead>\n",
       "    <tr style=\"text-align: right;\">\n",
       "      <th></th>\n",
       "      <th>object_id</th>\n",
       "      <th>creation_time</th>\n",
       "      <th>name</th>\n",
       "      <th>email</th>\n",
       "      <th>creation_source</th>\n",
       "      <th>last_session_creation_time</th>\n",
       "      <th>opted_in_to_mailing_list</th>\n",
       "      <th>enabled_for_marketing_drip</th>\n",
       "      <th>org_id</th>\n",
       "      <th>invited_by_user_id</th>\n",
       "    </tr>\n",
       "  </thead>\n",
       "  <tbody>\n",
       "    <tr>\n",
       "      <th>5768</th>\n",
       "      <td>5769</td>\n",
       "      <td>2013-07-24 00:55:06</td>\n",
       "      <td>Alexander Zoe</td>\n",
       "      <td>ZoeAlexander@gustr.com</td>\n",
       "      <td>SIGNUP</td>\n",
       "      <td>2013-07-25 00:55:06</td>\n",
       "      <td>0</td>\n",
       "      <td>0</td>\n",
       "      <td>32</td>\n",
       "      <td>not invited</td>\n",
       "    </tr>\n",
       "    <tr>\n",
       "      <th>6696</th>\n",
       "      <td>6697</td>\n",
       "      <td>2013-11-11 04:10:17</td>\n",
       "      <td>Alexander Zoe</td>\n",
       "      <td>ZoeAlexander@yahoo.com</td>\n",
       "      <td>PERSONAL_PROJECTS</td>\n",
       "      <td>2013-11-11 04:10:17</td>\n",
       "      <td>0</td>\n",
       "      <td>0</td>\n",
       "      <td>230</td>\n",
       "      <td>not invited</td>\n",
       "    </tr>\n",
       "    <tr>\n",
       "      <th>6420</th>\n",
       "      <td>6421</td>\n",
       "      <td>2013-03-29 22:05:46</td>\n",
       "      <td>Almeida Aline</td>\n",
       "      <td>AlineBarbosaAlmeida@jourrapide.com</td>\n",
       "      <td>PERSONAL_PROJECTS</td>\n",
       "      <td>2013-03-31 22:05:46</td>\n",
       "      <td>0</td>\n",
       "      <td>0</td>\n",
       "      <td>8</td>\n",
       "      <td>not invited</td>\n",
       "    </tr>\n",
       "    <tr>\n",
       "      <th>5105</th>\n",
       "      <td>5106</td>\n",
       "      <td>2012-09-12 21:35:02</td>\n",
       "      <td>Almeida Aline</td>\n",
       "      <td>AlineSousaAlmeida@gmail.com</td>\n",
       "      <td>SIGNUP</td>\n",
       "      <td>2012-09-12 21:35:02</td>\n",
       "      <td>0</td>\n",
       "      <td>0</td>\n",
       "      <td>79</td>\n",
       "      <td>not invited</td>\n",
       "    </tr>\n",
       "    <tr>\n",
       "      <th>4116</th>\n",
       "      <td>4117</td>\n",
       "      <td>2014-03-14 11:12:37</td>\n",
       "      <td>Almeida André</td>\n",
       "      <td>AndreAzevedoAlmeida@jourrapide.com</td>\n",
       "      <td>ORG_INVITE</td>\n",
       "      <td>2014-03-14 11:12:37</td>\n",
       "      <td>1</td>\n",
       "      <td>0</td>\n",
       "      <td>2</td>\n",
       "      <td>2710.0</td>\n",
       "    </tr>\n",
       "  </tbody>\n",
       "</table>\n",
       "</div>"
      ],
      "text/plain": [
       "      object_id       creation_time           name  \\\n",
       "5768       5769 2013-07-24 00:55:06  Alexander Zoe   \n",
       "6696       6697 2013-11-11 04:10:17  Alexander Zoe   \n",
       "6420       6421 2013-03-29 22:05:46  Almeida Aline   \n",
       "5105       5106 2012-09-12 21:35:02  Almeida Aline   \n",
       "4116       4117 2014-03-14 11:12:37  Almeida André   \n",
       "\n",
       "                                   email    creation_source  \\\n",
       "5768              ZoeAlexander@gustr.com             SIGNUP   \n",
       "6696              ZoeAlexander@yahoo.com  PERSONAL_PROJECTS   \n",
       "6420  AlineBarbosaAlmeida@jourrapide.com  PERSONAL_PROJECTS   \n",
       "5105         AlineSousaAlmeida@gmail.com             SIGNUP   \n",
       "4116  AndreAzevedoAlmeida@jourrapide.com         ORG_INVITE   \n",
       "\n",
       "     last_session_creation_time  opted_in_to_mailing_list  \\\n",
       "5768        2013-07-25 00:55:06                         0   \n",
       "6696        2013-11-11 04:10:17                         0   \n",
       "6420        2013-03-31 22:05:46                         0   \n",
       "5105        2012-09-12 21:35:02                         0   \n",
       "4116        2014-03-14 11:12:37                         1   \n",
       "\n",
       "      enabled_for_marketing_drip  org_id invited_by_user_id  \n",
       "5768                           0      32        not invited  \n",
       "6696                           0     230        not invited  \n",
       "6420                           0       8        not invited  \n",
       "5105                           0      79        not invited  \n",
       "4116                           0       2             2710.0  "
      ]
     },
     "execution_count": 46,
     "metadata": {},
     "output_type": "execute_result"
    }
   ],
   "source": [
    "df_users[df_users['name'].duplicated(keep=False)].sort_values('name').head()\n"
   ]
  },
  {
   "cell_type": "code",
   "execution_count": 48,
   "id": "0a08e48d",
   "metadata": {},
   "outputs": [
    {
     "data": {
      "text/plain": [
       "(1206, 10)"
      ]
     },
     "execution_count": 48,
     "metadata": {},
     "output_type": "execute_result"
    }
   ],
   "source": [
    "df_users[df_users['name'].duplicated(keep=False)].shape\n"
   ]
  },
  {
   "cell_type": "markdown",
   "id": "d19ce34e",
   "metadata": {},
   "source": [
    "There are users with the same name but different information on the other columns. We need more info to check whether these are the same people (who might have changed organization for example and got a new account). For now, we suppose they are different people."
   ]
  },
  {
   "cell_type": "code",
   "execution_count": 49,
   "id": "cb1cc508",
   "metadata": {},
   "outputs": [
    {
     "data": {
      "text/plain": [
       "object_id                              int64\n",
       "creation_time                 datetime64[ns]\n",
       "name                                  object\n",
       "email                                 object\n",
       "creation_source                       object\n",
       "last_session_creation_time    datetime64[ns]\n",
       "opted_in_to_mailing_list               int64\n",
       "enabled_for_marketing_drip             int64\n",
       "org_id                                 int64\n",
       "invited_by_user_id                    object\n",
       "dtype: object"
      ]
     },
     "execution_count": 49,
     "metadata": {},
     "output_type": "execute_result"
    }
   ],
   "source": [
    "df_users.dtypes\n"
   ]
  },
  {
   "cell_type": "code",
   "execution_count": 50,
   "id": "57843d8b",
   "metadata": {},
   "outputs": [],
   "source": [
    "df_users['opted_in_to_mailing_list'] = pd.to_numeric(df_users['opted_in_to_mailing_list']).astype('bool')\n",
    "df_users['enabled_for_marketing_drip'] = pd.to_numeric(df_users['enabled_for_marketing_drip']).astype('bool')\n",
    "df_users['org_id'] = df_users['org_id'].astype('category')\n",
    "df_users['invited_by_user_id'] = df_users['invited_by_user_id'].astype('category')"
   ]
  },
  {
   "cell_type": "code",
   "execution_count": 51,
   "id": "b9322fe4",
   "metadata": {},
   "outputs": [
    {
     "data": {
      "text/html": [
       "<div>\n",
       "<style scoped>\n",
       "    .dataframe tbody tr th:only-of-type {\n",
       "        vertical-align: middle;\n",
       "    }\n",
       "\n",
       "    .dataframe tbody tr th {\n",
       "        vertical-align: top;\n",
       "    }\n",
       "\n",
       "    .dataframe thead th {\n",
       "        text-align: right;\n",
       "    }\n",
       "</style>\n",
       "<table border=\"1\" class=\"dataframe\">\n",
       "  <thead>\n",
       "    <tr style=\"text-align: right;\">\n",
       "      <th></th>\n",
       "      <th>object_id</th>\n",
       "      <th>creation_time</th>\n",
       "      <th>name</th>\n",
       "      <th>email</th>\n",
       "      <th>creation_source</th>\n",
       "      <th>last_session_creation_time</th>\n",
       "      <th>opted_in_to_mailing_list</th>\n",
       "      <th>enabled_for_marketing_drip</th>\n",
       "      <th>org_id</th>\n",
       "      <th>invited_by_user_id</th>\n",
       "    </tr>\n",
       "  </thead>\n",
       "  <tbody>\n",
       "    <tr>\n",
       "      <th>0</th>\n",
       "      <td>1</td>\n",
       "      <td>2014-04-22 03:53:30</td>\n",
       "      <td>Clausen August</td>\n",
       "      <td>AugustCClausen@yahoo.com</td>\n",
       "      <td>GUEST_INVITE</td>\n",
       "      <td>2014-04-22 03:53:30</td>\n",
       "      <td>True</td>\n",
       "      <td>False</td>\n",
       "      <td>11</td>\n",
       "      <td>10803.0</td>\n",
       "    </tr>\n",
       "    <tr>\n",
       "      <th>1</th>\n",
       "      <td>2</td>\n",
       "      <td>2013-11-15 03:45:04</td>\n",
       "      <td>Poole Matthew</td>\n",
       "      <td>MatthewPoole@gustr.com</td>\n",
       "      <td>ORG_INVITE</td>\n",
       "      <td>2014-03-31 03:45:04</td>\n",
       "      <td>False</td>\n",
       "      <td>False</td>\n",
       "      <td>1</td>\n",
       "      <td>316.0</td>\n",
       "    </tr>\n",
       "    <tr>\n",
       "      <th>2</th>\n",
       "      <td>3</td>\n",
       "      <td>2013-03-19 23:14:52</td>\n",
       "      <td>Bottrill Mitchell</td>\n",
       "      <td>MitchellBottrill@gustr.com</td>\n",
       "      <td>ORG_INVITE</td>\n",
       "      <td>2013-03-19 23:14:52</td>\n",
       "      <td>False</td>\n",
       "      <td>False</td>\n",
       "      <td>94</td>\n",
       "      <td>1525.0</td>\n",
       "    </tr>\n",
       "    <tr>\n",
       "      <th>3</th>\n",
       "      <td>4</td>\n",
       "      <td>2013-05-21 08:09:28</td>\n",
       "      <td>Clausen Nicklas</td>\n",
       "      <td>NicklasSClausen@yahoo.com</td>\n",
       "      <td>GUEST_INVITE</td>\n",
       "      <td>2013-05-22 08:09:28</td>\n",
       "      <td>False</td>\n",
       "      <td>False</td>\n",
       "      <td>1</td>\n",
       "      <td>5151.0</td>\n",
       "    </tr>\n",
       "    <tr>\n",
       "      <th>4</th>\n",
       "      <td>5</td>\n",
       "      <td>2013-01-17 10:14:20</td>\n",
       "      <td>Raw Grace</td>\n",
       "      <td>GraceRaw@yahoo.com</td>\n",
       "      <td>GUEST_INVITE</td>\n",
       "      <td>2013-01-22 10:14:20</td>\n",
       "      <td>False</td>\n",
       "      <td>False</td>\n",
       "      <td>193</td>\n",
       "      <td>5240.0</td>\n",
       "    </tr>\n",
       "  </tbody>\n",
       "</table>\n",
       "</div>"
      ],
      "text/plain": [
       "   object_id       creation_time               name  \\\n",
       "0          1 2014-04-22 03:53:30     Clausen August   \n",
       "1          2 2013-11-15 03:45:04      Poole Matthew   \n",
       "2          3 2013-03-19 23:14:52  Bottrill Mitchell   \n",
       "3          4 2013-05-21 08:09:28    Clausen Nicklas   \n",
       "4          5 2013-01-17 10:14:20          Raw Grace   \n",
       "\n",
       "                        email creation_source last_session_creation_time  \\\n",
       "0    AugustCClausen@yahoo.com    GUEST_INVITE        2014-04-22 03:53:30   \n",
       "1      MatthewPoole@gustr.com      ORG_INVITE        2014-03-31 03:45:04   \n",
       "2  MitchellBottrill@gustr.com      ORG_INVITE        2013-03-19 23:14:52   \n",
       "3   NicklasSClausen@yahoo.com    GUEST_INVITE        2013-05-22 08:09:28   \n",
       "4          GraceRaw@yahoo.com    GUEST_INVITE        2013-01-22 10:14:20   \n",
       "\n",
       "   opted_in_to_mailing_list  enabled_for_marketing_drip org_id  \\\n",
       "0                      True                       False     11   \n",
       "1                     False                       False      1   \n",
       "2                     False                       False     94   \n",
       "3                     False                       False      1   \n",
       "4                     False                       False    193   \n",
       "\n",
       "  invited_by_user_id  \n",
       "0            10803.0  \n",
       "1              316.0  \n",
       "2             1525.0  \n",
       "3             5151.0  \n",
       "4             5240.0  "
      ]
     },
     "execution_count": 51,
     "metadata": {},
     "output_type": "execute_result"
    }
   ],
   "source": [
    "df_users.head()\n"
   ]
  },
  {
   "cell_type": "code",
   "execution_count": 70,
   "id": "01dc086b",
   "metadata": {},
   "outputs": [],
   "source": [
    "df = df_users.merge(df_adopted_user, how='left', left_on='object_id', right_on='user_id')"
   ]
  },
  {
   "cell_type": "markdown",
   "id": "a3ae66f1",
   "metadata": {},
   "source": [
    "There are some users in the users dataframe for which there is no data available in the user engagment dataframe. The best guess we can make here is that these users have had no engagment and are thus not adopted users. In the merged dataframe, adopted user value for these users is NaN. So we convert these NaNs into False (not adopted)."
   ]
  },
  {
   "cell_type": "code",
   "execution_count": 71,
   "id": "c4d94de7",
   "metadata": {},
   "outputs": [],
   "source": [
    "df['adopted_user'] = df['adopted_user'].replace(np.nan,False)\n"
   ]
  },
  {
   "cell_type": "markdown",
   "id": "888b4db6",
   "metadata": {},
   "source": [
    "Feature engineering: (we need today's date to create features but since we don't have that for this problem, we will use the last day an account was accessed)\n",
    "\n"
   ]
  },
  {
   "cell_type": "code",
   "execution_count": 72,
   "id": "04b2fa37",
   "metadata": {},
   "outputs": [],
   "source": [
    "df['days_since_last_login'] = (df['last_session_creation_time'].max().date() - \\\n",
    "          df['last_session_creation_time'].dt.date).dt.days.astype(int)"
   ]
  },
  {
   "cell_type": "code",
   "execution_count": 73,
   "id": "d736a73a",
   "metadata": {},
   "outputs": [],
   "source": [
    "df['days_since_account_creation'] = (df['last_session_creation_time'].max().date() - \\\n",
    "          df['creation_time'].dt.date).dt.days.astype(int)"
   ]
  },
  {
   "cell_type": "code",
   "execution_count": 74,
   "id": "bafa9fd4",
   "metadata": {},
   "outputs": [
    {
     "data": {
      "text/html": [
       "<div>\n",
       "<style scoped>\n",
       "    .dataframe tbody tr th:only-of-type {\n",
       "        vertical-align: middle;\n",
       "    }\n",
       "\n",
       "    .dataframe tbody tr th {\n",
       "        vertical-align: top;\n",
       "    }\n",
       "\n",
       "    .dataframe thead th {\n",
       "        text-align: right;\n",
       "    }\n",
       "</style>\n",
       "<table border=\"1\" class=\"dataframe\">\n",
       "  <thead>\n",
       "    <tr style=\"text-align: right;\">\n",
       "      <th></th>\n",
       "      <th>object_id</th>\n",
       "      <th>creation_time</th>\n",
       "      <th>name</th>\n",
       "      <th>email</th>\n",
       "      <th>creation_source</th>\n",
       "      <th>last_session_creation_time</th>\n",
       "      <th>opted_in_to_mailing_list</th>\n",
       "      <th>enabled_for_marketing_drip</th>\n",
       "      <th>org_id</th>\n",
       "      <th>invited_by_user_id</th>\n",
       "      <th>adopted_user</th>\n",
       "      <th>days_since_last_login</th>\n",
       "      <th>days_since_account_creation</th>\n",
       "    </tr>\n",
       "  </thead>\n",
       "  <tbody>\n",
       "    <tr>\n",
       "      <th>0</th>\n",
       "      <td>1</td>\n",
       "      <td>2014-04-22 03:53:30</td>\n",
       "      <td>Clausen August</td>\n",
       "      <td>AugustCClausen@yahoo.com</td>\n",
       "      <td>GUEST_INVITE</td>\n",
       "      <td>2014-04-22 03:53:30</td>\n",
       "      <td>True</td>\n",
       "      <td>False</td>\n",
       "      <td>11</td>\n",
       "      <td>10803.0</td>\n",
       "      <td>False</td>\n",
       "      <td>45</td>\n",
       "      <td>45</td>\n",
       "    </tr>\n",
       "    <tr>\n",
       "      <th>1</th>\n",
       "      <td>2</td>\n",
       "      <td>2013-11-15 03:45:04</td>\n",
       "      <td>Poole Matthew</td>\n",
       "      <td>MatthewPoole@gustr.com</td>\n",
       "      <td>ORG_INVITE</td>\n",
       "      <td>2014-03-31 03:45:04</td>\n",
       "      <td>False</td>\n",
       "      <td>False</td>\n",
       "      <td>1</td>\n",
       "      <td>316.0</td>\n",
       "      <td>True</td>\n",
       "      <td>67</td>\n",
       "      <td>203</td>\n",
       "    </tr>\n",
       "    <tr>\n",
       "      <th>2</th>\n",
       "      <td>3</td>\n",
       "      <td>2013-03-19 23:14:52</td>\n",
       "      <td>Bottrill Mitchell</td>\n",
       "      <td>MitchellBottrill@gustr.com</td>\n",
       "      <td>ORG_INVITE</td>\n",
       "      <td>2013-03-19 23:14:52</td>\n",
       "      <td>False</td>\n",
       "      <td>False</td>\n",
       "      <td>94</td>\n",
       "      <td>1525.0</td>\n",
       "      <td>False</td>\n",
       "      <td>444</td>\n",
       "      <td>444</td>\n",
       "    </tr>\n",
       "    <tr>\n",
       "      <th>3</th>\n",
       "      <td>4</td>\n",
       "      <td>2013-05-21 08:09:28</td>\n",
       "      <td>Clausen Nicklas</td>\n",
       "      <td>NicklasSClausen@yahoo.com</td>\n",
       "      <td>GUEST_INVITE</td>\n",
       "      <td>2013-05-22 08:09:28</td>\n",
       "      <td>False</td>\n",
       "      <td>False</td>\n",
       "      <td>1</td>\n",
       "      <td>5151.0</td>\n",
       "      <td>False</td>\n",
       "      <td>380</td>\n",
       "      <td>381</td>\n",
       "    </tr>\n",
       "    <tr>\n",
       "      <th>4</th>\n",
       "      <td>5</td>\n",
       "      <td>2013-01-17 10:14:20</td>\n",
       "      <td>Raw Grace</td>\n",
       "      <td>GraceRaw@yahoo.com</td>\n",
       "      <td>GUEST_INVITE</td>\n",
       "      <td>2013-01-22 10:14:20</td>\n",
       "      <td>False</td>\n",
       "      <td>False</td>\n",
       "      <td>193</td>\n",
       "      <td>5240.0</td>\n",
       "      <td>False</td>\n",
       "      <td>500</td>\n",
       "      <td>505</td>\n",
       "    </tr>\n",
       "  </tbody>\n",
       "</table>\n",
       "</div>"
      ],
      "text/plain": [
       "   object_id       creation_time               name  \\\n",
       "0          1 2014-04-22 03:53:30     Clausen August   \n",
       "1          2 2013-11-15 03:45:04      Poole Matthew   \n",
       "2          3 2013-03-19 23:14:52  Bottrill Mitchell   \n",
       "3          4 2013-05-21 08:09:28    Clausen Nicklas   \n",
       "4          5 2013-01-17 10:14:20          Raw Grace   \n",
       "\n",
       "                        email creation_source last_session_creation_time  \\\n",
       "0    AugustCClausen@yahoo.com    GUEST_INVITE        2014-04-22 03:53:30   \n",
       "1      MatthewPoole@gustr.com      ORG_INVITE        2014-03-31 03:45:04   \n",
       "2  MitchellBottrill@gustr.com      ORG_INVITE        2013-03-19 23:14:52   \n",
       "3   NicklasSClausen@yahoo.com    GUEST_INVITE        2013-05-22 08:09:28   \n",
       "4          GraceRaw@yahoo.com    GUEST_INVITE        2013-01-22 10:14:20   \n",
       "\n",
       "   opted_in_to_mailing_list  enabled_for_marketing_drip org_id  \\\n",
       "0                      True                       False     11   \n",
       "1                     False                       False      1   \n",
       "2                     False                       False     94   \n",
       "3                     False                       False      1   \n",
       "4                     False                       False    193   \n",
       "\n",
       "  invited_by_user_id  adopted_user  days_since_last_login  \\\n",
       "0            10803.0         False                     45   \n",
       "1              316.0          True                     67   \n",
       "2             1525.0         False                    444   \n",
       "3             5151.0         False                    380   \n",
       "4             5240.0         False                    500   \n",
       "\n",
       "   days_since_account_creation  \n",
       "0                           45  \n",
       "1                          203  \n",
       "2                          444  \n",
       "3                          381  \n",
       "4                          505  "
      ]
     },
     "execution_count": 74,
     "metadata": {},
     "output_type": "execute_result"
    }
   ],
   "source": [
    "df.head()"
   ]
  },
  {
   "cell_type": "code",
   "execution_count": 120,
   "id": "9036544e",
   "metadata": {},
   "outputs": [
    {
     "data": {
      "text/plain": [
       "gmail.com         3562\n",
       "yahoo.com         2447\n",
       "jourrapide.com    1259\n",
       "cuvox.de          1202\n",
       "gustr.com         1179\n",
       "hotmail.com       1165\n",
       "rerwl.com            2\n",
       "oqpze.com            2\n",
       "Name: domain, dtype: int64"
      ]
     },
     "execution_count": 120,
     "metadata": {},
     "output_type": "execute_result"
    }
   ],
   "source": [
    "# Add email domain\n",
    "df['domain'] = df['email'].apply(lambda x: x.split('@')[1])\n",
    "df.domain.value_counts().head(8)"
   ]
  },
  {
   "cell_type": "code",
   "execution_count": 121,
   "id": "94aef6e0",
   "metadata": {},
   "outputs": [],
   "source": [
    "# Identify top 6 email domains, plus 'other'\n",
    "domain_list = ['gmail.com', 'yahoo.com', 'jourrapide.com', 'cuvox.de', 'gustr.com', 'hotmail.com']\n",
    "df['domains'] = df['domain'].apply(lambda x: x if x in domain_list else 'other')"
   ]
  },
  {
   "cell_type": "code",
   "execution_count": 123,
   "id": "7284ccb6",
   "metadata": {},
   "outputs": [
    {
     "data": {
      "text/html": [
       "<div>\n",
       "<style scoped>\n",
       "    .dataframe tbody tr th:only-of-type {\n",
       "        vertical-align: middle;\n",
       "    }\n",
       "\n",
       "    .dataframe tbody tr th {\n",
       "        vertical-align: top;\n",
       "    }\n",
       "\n",
       "    .dataframe thead th {\n",
       "        text-align: right;\n",
       "    }\n",
       "</style>\n",
       "<table border=\"1\" class=\"dataframe\">\n",
       "  <thead>\n",
       "    <tr style=\"text-align: right;\">\n",
       "      <th></th>\n",
       "      <th>object_id</th>\n",
       "      <th>creation_time</th>\n",
       "      <th>name</th>\n",
       "      <th>email</th>\n",
       "      <th>creation_source</th>\n",
       "      <th>last_session_creation_time</th>\n",
       "      <th>opted_in_to_mailing_list</th>\n",
       "      <th>enabled_for_marketing_drip</th>\n",
       "      <th>org_id</th>\n",
       "      <th>invited_by_user_id</th>\n",
       "      <th>adopted_user</th>\n",
       "      <th>days_since_last_login</th>\n",
       "      <th>days_since_account_creation</th>\n",
       "      <th>domain</th>\n",
       "      <th>domains</th>\n",
       "    </tr>\n",
       "  </thead>\n",
       "  <tbody>\n",
       "    <tr>\n",
       "      <th>0</th>\n",
       "      <td>1</td>\n",
       "      <td>2014-04-22 03:53:30</td>\n",
       "      <td>Clausen August</td>\n",
       "      <td>AugustCClausen@yahoo.com</td>\n",
       "      <td>GUEST_INVITE</td>\n",
       "      <td>2014-04-22 03:53:30</td>\n",
       "      <td>True</td>\n",
       "      <td>False</td>\n",
       "      <td>11</td>\n",
       "      <td>10803.0</td>\n",
       "      <td>False</td>\n",
       "      <td>45</td>\n",
       "      <td>45</td>\n",
       "      <td>yahoo.com</td>\n",
       "      <td>yahoo.com</td>\n",
       "    </tr>\n",
       "    <tr>\n",
       "      <th>1</th>\n",
       "      <td>2</td>\n",
       "      <td>2013-11-15 03:45:04</td>\n",
       "      <td>Poole Matthew</td>\n",
       "      <td>MatthewPoole@gustr.com</td>\n",
       "      <td>ORG_INVITE</td>\n",
       "      <td>2014-03-31 03:45:04</td>\n",
       "      <td>False</td>\n",
       "      <td>False</td>\n",
       "      <td>1</td>\n",
       "      <td>316.0</td>\n",
       "      <td>True</td>\n",
       "      <td>67</td>\n",
       "      <td>203</td>\n",
       "      <td>gustr.com</td>\n",
       "      <td>gustr.com</td>\n",
       "    </tr>\n",
       "    <tr>\n",
       "      <th>2</th>\n",
       "      <td>3</td>\n",
       "      <td>2013-03-19 23:14:52</td>\n",
       "      <td>Bottrill Mitchell</td>\n",
       "      <td>MitchellBottrill@gustr.com</td>\n",
       "      <td>ORG_INVITE</td>\n",
       "      <td>2013-03-19 23:14:52</td>\n",
       "      <td>False</td>\n",
       "      <td>False</td>\n",
       "      <td>94</td>\n",
       "      <td>1525.0</td>\n",
       "      <td>False</td>\n",
       "      <td>444</td>\n",
       "      <td>444</td>\n",
       "      <td>gustr.com</td>\n",
       "      <td>gustr.com</td>\n",
       "    </tr>\n",
       "    <tr>\n",
       "      <th>3</th>\n",
       "      <td>4</td>\n",
       "      <td>2013-05-21 08:09:28</td>\n",
       "      <td>Clausen Nicklas</td>\n",
       "      <td>NicklasSClausen@yahoo.com</td>\n",
       "      <td>GUEST_INVITE</td>\n",
       "      <td>2013-05-22 08:09:28</td>\n",
       "      <td>False</td>\n",
       "      <td>False</td>\n",
       "      <td>1</td>\n",
       "      <td>5151.0</td>\n",
       "      <td>False</td>\n",
       "      <td>380</td>\n",
       "      <td>381</td>\n",
       "      <td>yahoo.com</td>\n",
       "      <td>yahoo.com</td>\n",
       "    </tr>\n",
       "    <tr>\n",
       "      <th>4</th>\n",
       "      <td>5</td>\n",
       "      <td>2013-01-17 10:14:20</td>\n",
       "      <td>Raw Grace</td>\n",
       "      <td>GraceRaw@yahoo.com</td>\n",
       "      <td>GUEST_INVITE</td>\n",
       "      <td>2013-01-22 10:14:20</td>\n",
       "      <td>False</td>\n",
       "      <td>False</td>\n",
       "      <td>193</td>\n",
       "      <td>5240.0</td>\n",
       "      <td>False</td>\n",
       "      <td>500</td>\n",
       "      <td>505</td>\n",
       "      <td>yahoo.com</td>\n",
       "      <td>yahoo.com</td>\n",
       "    </tr>\n",
       "  </tbody>\n",
       "</table>\n",
       "</div>"
      ],
      "text/plain": [
       "   object_id       creation_time               name  \\\n",
       "0          1 2014-04-22 03:53:30     Clausen August   \n",
       "1          2 2013-11-15 03:45:04      Poole Matthew   \n",
       "2          3 2013-03-19 23:14:52  Bottrill Mitchell   \n",
       "3          4 2013-05-21 08:09:28    Clausen Nicklas   \n",
       "4          5 2013-01-17 10:14:20          Raw Grace   \n",
       "\n",
       "                        email creation_source last_session_creation_time  \\\n",
       "0    AugustCClausen@yahoo.com    GUEST_INVITE        2014-04-22 03:53:30   \n",
       "1      MatthewPoole@gustr.com      ORG_INVITE        2014-03-31 03:45:04   \n",
       "2  MitchellBottrill@gustr.com      ORG_INVITE        2013-03-19 23:14:52   \n",
       "3   NicklasSClausen@yahoo.com    GUEST_INVITE        2013-05-22 08:09:28   \n",
       "4          GraceRaw@yahoo.com    GUEST_INVITE        2013-01-22 10:14:20   \n",
       "\n",
       "   opted_in_to_mailing_list  enabled_for_marketing_drip org_id  \\\n",
       "0                      True                       False     11   \n",
       "1                     False                       False      1   \n",
       "2                     False                       False     94   \n",
       "3                     False                       False      1   \n",
       "4                     False                       False    193   \n",
       "\n",
       "  invited_by_user_id  adopted_user  days_since_last_login  \\\n",
       "0            10803.0         False                     45   \n",
       "1              316.0          True                     67   \n",
       "2             1525.0         False                    444   \n",
       "3             5151.0         False                    380   \n",
       "4             5240.0         False                    500   \n",
       "\n",
       "   days_since_account_creation     domain    domains  \n",
       "0                           45  yahoo.com  yahoo.com  \n",
       "1                          203  gustr.com  gustr.com  \n",
       "2                          444  gustr.com  gustr.com  \n",
       "3                          381  yahoo.com  yahoo.com  \n",
       "4                          505  yahoo.com  yahoo.com  "
      ]
     },
     "execution_count": 123,
     "metadata": {},
     "output_type": "execute_result"
    }
   ],
   "source": [
    "df.head()"
   ]
  },
  {
   "cell_type": "code",
   "execution_count": null,
   "id": "d1560887",
   "metadata": {},
   "outputs": [],
   "source": [
    "train = df.drop(['object_id','creation_time', 'name', 'email', 'last_session_creation_time', 'invited_by_user_id', 'domain'], axis=1)\n"
   ]
  },
  {
   "cell_type": "code",
   "execution_count": 129,
   "id": "e4237c8a",
   "metadata": {},
   "outputs": [
    {
     "name": "stdout",
     "output_type": "stream",
     "text": [
      "<class 'pandas.core.frame.DataFrame'>\n",
      "Int64Index: 12000 entries, 0 to 11999\n",
      "Data columns (total 8 columns):\n",
      " #   Column                       Non-Null Count  Dtype   \n",
      "---  ------                       --------------  -----   \n",
      " 0   creation_source              12000 non-null  object  \n",
      " 1   opted_in_to_mailing_list     12000 non-null  bool    \n",
      " 2   enabled_for_marketing_drip   12000 non-null  bool    \n",
      " 3   org_id                       12000 non-null  category\n",
      " 4   adopted_user                 12000 non-null  bool    \n",
      " 5   days_since_last_login        12000 non-null  int64   \n",
      " 6   days_since_account_creation  12000 non-null  int64   \n",
      " 7   domains                      12000 non-null  object  \n",
      "dtypes: bool(3), category(1), int64(2), object(2)\n",
      "memory usage: 804.8+ KB\n"
     ]
    }
   ],
   "source": [
    "train.info()"
   ]
  },
  {
   "cell_type": "code",
   "execution_count": 137,
   "id": "42e256a9",
   "metadata": {},
   "outputs": [],
   "source": [
    "train['opted_in_to_mailing_list'] = train.opted_in_to_mailing_list.astype('object')\n",
    "train['enabled_for_marketing_drip'] = train.enabled_for_marketing_drip.astype('object')\n",
    "train['org_id'] = train.org_id.astype('int')"
   ]
  },
  {
   "cell_type": "code",
   "execution_count": 138,
   "id": "36ef0f45",
   "metadata": {},
   "outputs": [
    {
     "name": "stdout",
     "output_type": "stream",
     "text": [
      "<class 'pandas.core.frame.DataFrame'>\n",
      "Int64Index: 12000 entries, 0 to 11999\n",
      "Data columns (total 8 columns):\n",
      " #   Column                       Non-Null Count  Dtype \n",
      "---  ------                       --------------  ----- \n",
      " 0   creation_source              12000 non-null  object\n",
      " 1   opted_in_to_mailing_list     12000 non-null  object\n",
      " 2   enabled_for_marketing_drip   12000 non-null  object\n",
      " 3   org_id                       12000 non-null  int64 \n",
      " 4   adopted_user                 12000 non-null  bool  \n",
      " 5   days_since_last_login        12000 non-null  int64 \n",
      " 6   days_since_account_creation  12000 non-null  int64 \n",
      " 7   domains                      12000 non-null  object\n",
      "dtypes: bool(1), int64(3), object(4)\n",
      "memory usage: 1019.8+ KB\n"
     ]
    }
   ],
   "source": [
    "train.info()"
   ]
  },
  {
   "cell_type": "markdown",
   "id": "85df881f",
   "metadata": {},
   "source": [
    "## Pre Processing"
   ]
  },
  {
   "cell_type": "code",
   "execution_count": 139,
   "id": "078d4190",
   "metadata": {},
   "outputs": [
    {
     "name": "stdout",
     "output_type": "stream",
     "text": [
      "Numerical features : 3\n",
      "Categorical features : 4\n"
     ]
    }
   ],
   "source": [
    "categorical_features = train.select_dtypes(include = [\"object\"]).columns\n",
    "numerical_features = train.select_dtypes(exclude = [\"object\"]).columns\n",
    "numerical_features = numerical_features.drop(\"adopted_user\")\n",
    "print(\"Numerical features : \" + str(len(numerical_features)))\n",
    "print(\"Categorical features : \" + str(len(categorical_features)))\n",
    "train_num = train[numerical_features]\n",
    "train_cat = train[categorical_features]"
   ]
  },
  {
   "cell_type": "code",
   "execution_count": 140,
   "id": "2de0615b",
   "metadata": {},
   "outputs": [
    {
     "data": {
      "text/plain": [
       "Index(['creation_source_GUEST_INVITE', 'creation_source_ORG_INVITE',\n",
       "       'creation_source_PERSONAL_PROJECTS', 'creation_source_SIGNUP',\n",
       "       'creation_source_SIGNUP_GOOGLE_AUTH', 'opted_in_to_mailing_list_False',\n",
       "       'opted_in_to_mailing_list_True', 'enabled_for_marketing_drip_False',\n",
       "       'enabled_for_marketing_drip_True', 'domains_cuvox.de',\n",
       "       'domains_gmail.com', 'domains_gustr.com', 'domains_hotmail.com',\n",
       "       'domains_jourrapide.com', 'domains_other', 'domains_yahoo.com'],\n",
       "      dtype='object')"
      ]
     },
     "execution_count": 140,
     "metadata": {},
     "output_type": "execute_result"
    }
   ],
   "source": [
    "# Create dummy features for categorical values via one-hot encoding\n",
    "train_cat = pd.get_dummies(train_cat)\n",
    "\n",
    "train_cat.columns"
   ]
  },
  {
   "cell_type": "code",
   "execution_count": 141,
   "id": "f29b3748",
   "metadata": {},
   "outputs": [
    {
     "name": "stdout",
     "output_type": "stream",
     "text": [
      "New number of features : 19\n",
      "X_train : (9600, 19)\n",
      "X_test : (2400, 19)\n",
      "y_train : (9600,)\n",
      "y_test : (2400,)\n"
     ]
    }
   ],
   "source": [
    "# Split into testing and training datasets\n",
    "from sklearn.model_selection import train_test_split\n",
    "\n",
    "# Join categorical and numerical features\n",
    "X = pd.concat([train_num, train_cat], axis = 1)\n",
    "y = train.adopted_user\n",
    "print(\"New number of features : \" + str(X.shape[1]))\n",
    "\n",
    "# Partition the dataset in train + validation sets\n",
    "X_train, X_test, y_train, y_test = train_test_split(X, y, test_size = 0.2, random_state = 42)\n",
    "print(\"X_train : \" + str(X_train.shape))\n",
    "print(\"X_test : \" + str(X_test.shape))\n",
    "print(\"y_train : \" + str(y_train.shape))\n",
    "print(\"y_test : \" + str(y_test.shape))\n"
   ]
  },
  {
   "cell_type": "code",
   "execution_count": 149,
   "id": "2bb2b702",
   "metadata": {},
   "outputs": [],
   "source": [
    "# Standardize numerical features\n",
    "stdSc = StandardScaler()\n",
    "X_train.loc[:, numerical_features] = stdSc.fit_transform(X_train.loc[:, numerical_features])\n",
    "X_test.loc[:, numerical_features] = stdSc.transform(X_test.loc[:, numerical_features])"
   ]
  },
  {
   "cell_type": "code",
   "execution_count": 147,
   "id": "1b2631ea",
   "metadata": {},
   "outputs": [],
   "source": [
    "from sklearn.linear_model import LogisticRegression\n",
    "from sklearn.model_selection import train_test_split, cross_val_score, GridSearchCV, KFold\n",
    "from sklearn.metrics import confusion_matrix, classification_report, roc_curve, roc_auc_score, accuracy_score\n",
    "from sklearn.preprocessing import StandardScaler\n",
    "from sklearn.pipeline import Pipeline"
   ]
  },
  {
   "cell_type": "code",
   "execution_count": 150,
   "id": "26f37cb2",
   "metadata": {},
   "outputs": [
    {
     "name": "stdout",
     "output_type": "stream",
     "text": [
      "[0.97447917 0.96979167 0.978125   0.97239583 0.97083333]\n",
      "Average 5-Fold CV Score: 0.9731249999999999\n"
     ]
    }
   ],
   "source": [
    "# Instantiate the logistic regression model\n",
    "lg = LogisticRegression()\n",
    "\n",
    "# Fit the model on the training data\n",
    "lg.fit(X_train, y_train)\n",
    "\n",
    "# Predict on the testing data\n",
    "y_pred = lg.predict(X_test)\n",
    "\n",
    "cv_scores = cross_val_score(lg, X_train.values, y_train, cv=5)\n",
    "print(cv_scores)\n",
    "print(\"Average 5-Fold CV Score: {}\".format(np.mean(cv_scores)))"
   ]
  },
  {
   "cell_type": "code",
   "execution_count": 152,
   "id": "541cbbad",
   "metadata": {},
   "outputs": [
    {
     "name": "stdout",
     "output_type": "stream",
     "text": [
      "              precision    recall  f1-score   support\n",
      "\n",
      "       False       0.98      1.00      0.99      2074\n",
      "        True       0.97      0.87      0.91       326\n",
      "\n",
      "    accuracy                           0.98      2400\n",
      "   macro avg       0.97      0.93      0.95      2400\n",
      "weighted avg       0.98      0.98      0.98      2400\n",
      "\n",
      "Test set accuracy: 97.79%\n"
     ]
    }
   ],
   "source": [
    "# Evaluate the performance of the classifier\n",
    "print(classification_report(y_test, y_pred))\n",
    "print('Test set accuracy: {:.2f}%'.format(accuracy_score(y_test, y_pred)*100))"
   ]
  },
  {
   "cell_type": "code",
   "execution_count": 154,
   "id": "0d456add",
   "metadata": {},
   "outputs": [
    {
     "name": "stdout",
     "output_type": "stream",
     "text": [
      "ROC AUC: 0.9956\n"
     ]
    },
    {
     "data": {
      "image/png": "[encoded data removed]",
      "text/plain": [
       "<Figure size 300x300 with 1 Axes>"
      ]
     },
     "metadata": {},
     "output_type": "display_data"
    }
   ],
   "source": [
    "# Compute predicted probabilities\n",
    "y_pred_prob = lg.predict_proba(X_test)[:,1]\n",
    "\n",
    "# Generate ROC curve values: fpr, tpr, thresholds\n",
    "fpr, tpr, thresholds = roc_curve(y_test, y_pred_prob)\n",
    "\n",
    "# Plot ROC curve\n",
    "plt.figure(figsize=(3,3))\n",
    "plt.plot([0, 1], [0, 1], 'k--')\n",
    "plt.plot(fpr, tpr)\n",
    "plt.xlabel('False Positive Rate')\n",
    "plt.ylabel('True Positive Rate')\n",
    "plt.title('ROC Curve')\n",
    "\n",
    "# Compute and print AUC score\n",
    "print(\"ROC AUC: {:.4f}\".format(roc_auc_score(y_test, y_pred_prob)))"
   ]
  },
  {
   "cell_type": "markdown",
   "id": "f045dc82",
   "metadata": {},
   "source": [
    "#### Mode Performance\n",
    "\n",
    "The model has a really good accuracy score & ROC AUC score"
   ]
  },
  {
   "cell_type": "code",
   "execution_count": 155,
   "id": "86c4c9ac",
   "metadata": {},
   "outputs": [
    {
     "data": {
      "image/png": "[encoded data removed]",
      "text/plain": [
       "<Figure size 640x480 with 1 Axes>"
      ]
     },
     "metadata": {},
     "output_type": "display_data"
    }
   ],
   "source": [
    "# Get the feature importance\n",
    "coef = lg.coef_[0]\n",
    "importance = coef\n",
    "\n",
    "# Sort the features by importance in descending order\n",
    "indices = importance.argsort()[::-1]\n",
    "features = X_train.columns[indices]\n",
    "\n",
    "# Plot the feature importance\n",
    "plt.barh(range(len(X_train.columns)), importance[indices])\n",
    "plt.yticks(range(len(X_train.columns)), features)\n",
    "plt.xlabel('Importance')\n",
    "plt.ylabel('Features')\n",
    "plt.title('Feature Importance for Logistic Regression Model')\n",
    "plt.show()"
   ]
  },
  {
   "cell_type": "markdown",
   "id": "f743ddb8",
   "metadata": {},
   "source": [
    "Top positive features:\n",
    "- Days since account creation\n",
    "- Creation source by guest invite\n",
    "- Email with gmail.com \n",
    "\n",
    "The accuracy is 97.79% and the model uses some email domains and creation sources as top features.\n",
    "\n",
    "Specifically, user accounts emailing from gmail.com and created through guest invite are most likely to become adopted users"
   ]
  }
 ],
 "metadata": {
  "kernelspec": {
   "display_name": "Python 3 (ipykernel)",
   "language": "python",
   "name": "python3"
  },
  "language_info": {
   "codemirror_mode": {
    "name": "ipython",
    "version": 3
   },
   "file_extension": ".py",
   "mimetype": "text/x-python",
   "name": "python",
   "nbconvert_exporter": "python",
   "pygments_lexer": "ipython3",
   "version": "3.9.13"
  }
 },
 "nbformat": 4,
 "nbformat_minor": 5
}
